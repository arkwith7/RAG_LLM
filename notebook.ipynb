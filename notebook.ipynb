{
 "cells": [
  {
   "cell_type": "markdown",
   "metadata": {},
   "source": [
    "# Semantic search using OpenSearch and OpenAI\n",
    "\n",
    "This notebook guides you through an example of using [Aiven for OpenSearch](https://go.aiven.io/openai-opensearch-os) as a backend vector database for OpenAI embeddings and how to perform semantic search.\n",
    "\n",
    "## Prerequisites\n",
    "\n",
    "Before you begin, ensure you have created all necessary accounts and services as highlighted in the [README](./README.md) to follow the prerequisites:\n",
    "- You have an [Aiven Account](./README.md#setup-your-aiven-account)\n",
    "- You have created your [opensearch service](./README.md#create-an-opensearch-service)\n",
    "- You have and OpenAI Account\n",
    "- You have created AND SAVED an OpenAI API key\n",
    "- You have setup your python environment for this notebook"
   ]
  },
  {
   "cell_type": "markdown",
   "metadata": {},
   "source": [
    "## Adding our Environment Variables\n",
    "To avoid leaking api_keys we will store them in an .env file that is ignored from version control.\n",
    "\n",
    "**make a copy of `.env_sample`**"
   ]
  },
  {
   "cell_type": "code",
   "execution_count": null,
   "metadata": {
    "collapsed": false,
    "jupyter": {
     "outputs_hidden": false
    }
   },
   "outputs": [],
   "source": [
    "! cp .env_sample .env"
   ]
  },
  {
   "cell_type": "markdown",
   "metadata": {
    "collapsed": false,
    "jupyter": {
     "outputs_hidden": false
    }
   },
   "source": [
    "## Add our OpenAI API key\n",
    "\n",
    "Open `.env` and replace `<YOUR_OPENAI_API_KEY>` with the key that you saved from OpenAI."
   ]
  },
  {
   "cell_type": "markdown",
   "metadata": {},
   "source": [
    "## Add our OpenSearch Service URI\n",
    "\n",
    "Verify the Aiven for OpenSearch service is in the `RUNNING` state.\n",
    "\n",
    "![OpenSearch service in the running state](./assets/opensearch-running-state.png)\n",
    "\n",
    "Select the running service and copy the **Service URI**.\n",
    "\n",
    "![Copy the OpenSearch Service URI](assets/copy-opensearch-service-uri.png)\n",
    "\n",
    "Add the OpenSearch Service URI to your `.env` file created above, replacing `<OPENSEARCH_SERVICE_URI>`"
   ]
  },
  {
   "cell_type": "markdown",
   "metadata": {},
   "source": [
    "## Load our environment variables"
   ]
  },
  {
   "cell_type": "code",
   "execution_count": 1,
   "metadata": {
    "collapsed": false,
    "jupyter": {
     "outputs_hidden": false
    }
   },
   "outputs": [
    {
     "data": {
      "text/plain": [
       "True"
      ]
     },
     "execution_count": 1,
     "metadata": {},
     "output_type": "execute_result"
    }
   ],
   "source": [
    "import os # to access our variables\n",
    "from dotenv import load_dotenv\n",
    "\n",
    "\n",
    "load_dotenv()"
   ]
  },
  {
   "cell_type": "markdown",
   "metadata": {
    "collapsed": false,
    "jupyter": {
     "outputs_hidden": false
    }
   },
   "source": [
    "## Connect to our Opensearch Service"
   ]
  },
  {
   "cell_type": "code",
   "execution_count": 2,
   "metadata": {
    "vscode": {
     "languageId": "shellscript"
    }
   },
   "outputs": [
    {
     "name": "stdout",
     "output_type": "stream",
     "text": [
      "{'name': '5f09d60b6eca', 'cluster_name': 'docker-cluster', 'cluster_uuid': 'VwFwI21JQ2SPV60p2Fl8Pw', 'version': {'distribution': 'opensearch', 'number': '2.12.0', 'build_type': 'tar', 'build_hash': '2c355ce1a427e4a528778d4054436b5c4b756221', 'build_date': '2024-02-20T02:20:12.084014282Z', 'build_snapshot': False, 'lucene_version': '9.9.2', 'minimum_wire_compatibility_version': '7.10.0', 'minimum_index_compatibility_version': '7.0.0'}, 'tagline': 'The OpenSearch Project: https://opensearch.org/'}\n"
     ]
    }
   ],
   "source": [
    "from opensearchpy import OpenSearch\n",
    "\n",
    "connection_string = os.getenv(\"OPENSEARCH_SERVICE_URI\")\n",
    "\n",
    "# # Create the client with SSL/TLS enabled, but hostname verification disabled.\n",
    "\n",
    "# client = OpenSearch(connection_string, use_ssl=True, timeout=100)\n",
    "client = OpenSearch(connection_string, use_ssl=False, verify_certs=False, timeout=100)\n",
    "\n",
    "# 클러스터 상태 확인\n",
    "print(client.info())"
   ]
  },
  {
   "cell_type": "code",
   "execution_count": null,
   "metadata": {
    "vscode": {
     "languageId": "shellscript"
    }
   },
   "outputs": [],
   "source": [
    "# # Opensearch 연결 정보 설정\n",
    "# host = 'localhost'  # Docker 호스트의 IP 주소 또는 도메인. 로컬 환경에서는 localhost 사용\n",
    "# port = 9200  # Opensearch가 수신 대기 중인 포트\n",
    "# auth = ('USERNAME', 'PASSWORD')  # 기본 사용자 이름과 환경 변수에서 비밀번호를 가져옴\n",
    "\n",
    "# # SSL/TLS 설정이 활성화된 경우 (여기서는 비활성화 예시로 간주)\n",
    "# # 아래는 SSL 비활성화 상태로 클라이언트 생성 예시입니다.\n",
    "# client = OpenSearch(\n",
    "#     hosts=[{'host': host, 'port': port}],\n",
    "#     http_auth=auth,\n",
    "#     use_ssl=False,  # HTTPS를 사용하지 않는 경우 False로 설정\n",
    "#     verify_certs=False,  # 자체 서명된 인증서 사용 시 인증서 검증 비활성화\n",
    "# )\n",
    "\n",
    "# # 클러스터 상태 확인\n",
    "# print(client.info())"
   ]
  },
  {
   "cell_type": "code",
   "execution_count": null,
   "metadata": {
    "vscode": {
     "languageId": "shellscript"
    }
   },
   "outputs": [],
   "source": [
    "# from elasticsearch import Elasticsearch\n",
    "\n",
    "# client = Elasticsearch(\n",
    "#     hosts=[\n",
    "#             \"https://localhost:9200\"\n",
    "#     ],\n",
    "#     http_auth=('elastic', 'InFrbvg22wgMD2+_ME_Y'),\n",
    "#     ca_certs=\"./http_ca.crt\",\n",
    "# )\n",
    "    \n",
    "# client.ping()"
   ]
  },
  {
   "cell_type": "markdown",
   "metadata": {},
   "source": [
    "## Download the dataset\n",
    "To save us from having to recalculate embeddings on a huge dataset, we are using a pre-calculated OpenAI embeddings dataset covering wikipedia articles. We can get the file and unzip it with:"
   ]
  },
  {
   "cell_type": "code",
   "execution_count": 2,
   "metadata": {},
   "outputs": [],
   "source": [
    "import wget\n",
    "import zipfile\n",
    "\n",
    "embeddings_url = 'https://cdn.openai.com/API/examples/data/vector_database_wikipedia_articles_embedded.zip'\n",
    "wget.download(embeddings_url)\n",
    "\n",
    "with zipfile.ZipFile(\"vector_database_wikipedia_articles_embedded.zip\",\n",
    "\"r\") as zip_ref:\n",
    "    zip_ref.extractall(\"data\")"
   ]
  },
  {
   "cell_type": "markdown",
   "metadata": {},
   "source": [
    "Let's load the file in a dataframe and check the content with:"
   ]
  },
  {
   "cell_type": "code",
   "execution_count": 3,
   "metadata": {},
   "outputs": [
    {
     "data": {
      "text/html": [
       "<div>\n",
       "<style scoped>\n",
       "    .dataframe tbody tr th:only-of-type {\n",
       "        vertical-align: middle;\n",
       "    }\n",
       "\n",
       "    .dataframe tbody tr th {\n",
       "        vertical-align: top;\n",
       "    }\n",
       "\n",
       "    .dataframe thead th {\n",
       "        text-align: right;\n",
       "    }\n",
       "</style>\n",
       "<table border=\"1\" class=\"dataframe\">\n",
       "  <thead>\n",
       "    <tr style=\"text-align: right;\">\n",
       "      <th></th>\n",
       "      <th>id</th>\n",
       "      <th>url</th>\n",
       "      <th>title</th>\n",
       "      <th>text</th>\n",
       "      <th>title_vector</th>\n",
       "      <th>content_vector</th>\n",
       "      <th>vector_id</th>\n",
       "    </tr>\n",
       "  </thead>\n",
       "  <tbody>\n",
       "    <tr>\n",
       "      <th>0</th>\n",
       "      <td>1</td>\n",
       "      <td>https://simple.wikipedia.org/wiki/April</td>\n",
       "      <td>April</td>\n",
       "      <td>April is the fourth month of the year in the J...</td>\n",
       "      <td>[0.001009464613161981, -0.020700545981526375, ...</td>\n",
       "      <td>[-0.011253940872848034, -0.013491976074874401,...</td>\n",
       "      <td>0</td>\n",
       "    </tr>\n",
       "    <tr>\n",
       "      <th>1</th>\n",
       "      <td>2</td>\n",
       "      <td>https://simple.wikipedia.org/wiki/August</td>\n",
       "      <td>August</td>\n",
       "      <td>August (Aug.) is the eighth month of the year ...</td>\n",
       "      <td>[0.0009286514250561595, 0.000820168002974242, ...</td>\n",
       "      <td>[0.0003609954728744924, 0.007262262050062418, ...</td>\n",
       "      <td>1</td>\n",
       "    </tr>\n",
       "    <tr>\n",
       "      <th>2</th>\n",
       "      <td>6</td>\n",
       "      <td>https://simple.wikipedia.org/wiki/Art</td>\n",
       "      <td>Art</td>\n",
       "      <td>Art is a creative activity that expresses imag...</td>\n",
       "      <td>[0.003393713850528002, 0.0061537534929811954, ...</td>\n",
       "      <td>[-0.004959689453244209, 0.015772193670272827, ...</td>\n",
       "      <td>2</td>\n",
       "    </tr>\n",
       "    <tr>\n",
       "      <th>3</th>\n",
       "      <td>8</td>\n",
       "      <td>https://simple.wikipedia.org/wiki/A</td>\n",
       "      <td>A</td>\n",
       "      <td>A or a is the first letter of the English alph...</td>\n",
       "      <td>[0.0153952119871974, -0.013759135268628597, 0....</td>\n",
       "      <td>[0.024894846603274345, -0.022186409682035446, ...</td>\n",
       "      <td>3</td>\n",
       "    </tr>\n",
       "    <tr>\n",
       "      <th>4</th>\n",
       "      <td>9</td>\n",
       "      <td>https://simple.wikipedia.org/wiki/Air</td>\n",
       "      <td>Air</td>\n",
       "      <td>Air refers to the Earth's atmosphere. Air is a...</td>\n",
       "      <td>[0.02224554680287838, -0.02044147066771984, -0...</td>\n",
       "      <td>[0.021524671465158463, 0.018522677943110466, -...</td>\n",
       "      <td>4</td>\n",
       "    </tr>\n",
       "  </tbody>\n",
       "</table>\n",
       "</div>"
      ],
      "text/plain": [
       "   id                                       url   title  \\\n",
       "0   1   https://simple.wikipedia.org/wiki/April   April   \n",
       "1   2  https://simple.wikipedia.org/wiki/August  August   \n",
       "2   6     https://simple.wikipedia.org/wiki/Art     Art   \n",
       "3   8       https://simple.wikipedia.org/wiki/A       A   \n",
       "4   9     https://simple.wikipedia.org/wiki/Air     Air   \n",
       "\n",
       "                                                text  \\\n",
       "0  April is the fourth month of the year in the J...   \n",
       "1  August (Aug.) is the eighth month of the year ...   \n",
       "2  Art is a creative activity that expresses imag...   \n",
       "3  A or a is the first letter of the English alph...   \n",
       "4  Air refers to the Earth's atmosphere. Air is a...   \n",
       "\n",
       "                                        title_vector  \\\n",
       "0  [0.001009464613161981, -0.020700545981526375, ...   \n",
       "1  [0.0009286514250561595, 0.000820168002974242, ...   \n",
       "2  [0.003393713850528002, 0.0061537534929811954, ...   \n",
       "3  [0.0153952119871974, -0.013759135268628597, 0....   \n",
       "4  [0.02224554680287838, -0.02044147066771984, -0...   \n",
       "\n",
       "                                      content_vector  vector_id  \n",
       "0  [-0.011253940872848034, -0.013491976074874401,...          0  \n",
       "1  [0.0003609954728744924, 0.007262262050062418, ...          1  \n",
       "2  [-0.004959689453244209, 0.015772193670272827, ...          2  \n",
       "3  [0.024894846603274345, -0.022186409682035446, ...          3  \n",
       "4  [0.021524671465158463, 0.018522677943110466, -...          4  "
      ]
     },
     "execution_count": 3,
     "metadata": {},
     "output_type": "execute_result"
    }
   ],
   "source": [
    "import pandas as pd\n",
    "\n",
    "wikipedia_dataframe = pd.read_csv(\"data/vector_database_wikipedia_articles_embedded.csv\")\n",
    "\n",
    "wikipedia_dataframe.head()"
   ]
  },
  {
   "cell_type": "markdown",
   "metadata": {},
   "source": [
    "The file contains:\n",
    "* `id` a unique Wikipedia article identifier\n",
    "* `url` the Wikipedia article URL\n",
    "* `title` the title of the Wikipedia page\n",
    "* `text` the text of the article\n",
    "* `title_vector` and `content_vector` the embedding calculated on the title and content of the wikipedia article respectively\n",
    "* `vector_id` the id of the vector\n",
    "\n",
    "We can create an OpenSearch mapping optimized for this information with:"
   ]
  },
  {
   "cell_type": "code",
   "execution_count": 4,
   "metadata": {},
   "outputs": [],
   "source": [
    "index_settings ={\n",
    "    \"index\": {\n",
    "      \"knn\": True,\n",
    "      \"knn.algo_param.ef_search\": 100\n",
    "    }\n",
    "  }\n",
    "\n",
    "index_mapping= {\n",
    "    \"properties\": {\n",
    "      \"title_vector\": {\n",
    "          \"type\": \"knn_vector\",\n",
    "          \"dimension\": 1536,\n",
    "          \"method\": {\n",
    "            \"name\": \"hnsw\",\n",
    "            \"space_type\": \"l2\",\n",
    "            \"engine\": \"faiss\"\n",
    "        }\n",
    "      },\n",
    "      \"content_vector\": {\n",
    "          \"type\": \"knn_vector\",\n",
    "          \"dimension\": 1536,\n",
    "          \"method\": {\n",
    "            \"name\": \"hnsw\",\n",
    "            \"space_type\": \"l2\",\n",
    "            \"engine\": \"faiss\"\n",
    "        },\n",
    "      },\n",
    "      \"text\": {\"type\": \"text\"},\n",
    "      \"title\": {\"type\": \"text\"},\n",
    "      \"url\": { \"type\": \"keyword\"},\n",
    "      \"vector_id\": {\"type\": \"long\"}\n",
    "      \n",
    "    }\n",
    "}"
   ]
  },
  {
   "cell_type": "markdown",
   "metadata": {},
   "source": [
    "## Create an index in Aiven for OpenSearch\n",
    "\n",
    "This is where we will store our data"
   ]
  },
  {
   "cell_type": "code",
   "execution_count": 5,
   "metadata": {},
   "outputs": [
    {
     "data": {
      "text/plain": [
       "{'acknowledged': True,\n",
       " 'shards_acknowledged': True,\n",
       " 'index': 'openai_wikipedia_index'}"
      ]
     },
     "execution_count": 5,
     "metadata": {},
     "output_type": "execute_result"
    }
   ],
   "source": [
    "index_name = \"openai_wikipedia_index\"\n",
    "client.indices.create(index=index_name, body={\"settings\": index_settings, \"mappings\":index_mapping})"
   ]
  },
  {
   "cell_type": "markdown",
   "metadata": {},
   "source": [
    "## Index data into OpenSearch\n",
    "\n",
    "Now it's time to parse the the pandas dataframe and index the data into OpenSearch using Bulk APIs. The following function indexes a set of rows in the dataframe:"
   ]
  },
  {
   "cell_type": "code",
   "execution_count": 6,
   "metadata": {},
   "outputs": [],
   "source": [
    "def dataframe_to_bulk_actions(df):\n",
    "    for index, row in df.iterrows():\n",
    "        yield {\n",
    "            \"_index\": index_name,\n",
    "            \"_id\": row['id'],\n",
    "            \"_source\": {\n",
    "                'url' : row[\"url\"],\n",
    "                'title' : row[\"title\"],\n",
    "                'text' : row[\"text\"],\n",
    "                'title_vector' : json.loads(row[\"title_vector\"]),\n",
    "                'content_vector' : json.loads(row[\"content_vector\"]),\n",
    "                'vector_id' : row[\"vector_id\"]\n",
    "            }\n",
    "        }"
   ]
  },
  {
   "cell_type": "markdown",
   "metadata": {},
   "source": [
    "We don't want to index all the dataset at once, since it's way too large, so we'll load it in batches of `200` rows."
   ]
  },
  {
   "cell_type": "code",
   "execution_count": 7,
   "metadata": {},
   "outputs": [],
   "source": [
    "from opensearchpy import helpers\n",
    "import json\n",
    "\n",
    "start = 0\n",
    "end = len(wikipedia_dataframe)\n",
    "batch_size = 200\n",
    "for batch_start in range(start, end, batch_size):\n",
    "    batch_end = min(batch_start + batch_size, end)\n",
    "    batch_dataframe = wikipedia_dataframe.iloc[batch_start:batch_end]\n",
    "    actions = dataframe_to_bulk_actions(batch_dataframe)\n",
    "    helpers.bulk(client, actions)"
   ]
  },
  {
   "cell_type": "markdown",
   "metadata": {
    "collapsed": false,
    "jupyter": {
     "outputs_hidden": false
    }
   },
   "source": [
    "## Verify that our index has populated in our Aiven Console\n",
    "\n",
    "In the Aiven Console, select **Indexes** in the sidebar and verify that you have documents populated. There should be OVER 20,000 documents.\n",
    "\n",
    "![OpenSearch Indexes in the Aiven Console](assets/opensearch-indexes.png)"
   ]
  },
  {
   "cell_type": "markdown",
   "metadata": {},
   "source": [
    "Once all the documents are indexed, let's try a query to retrieve the documents containing `Pizza`:"
   ]
  },
  {
   "cell_type": "code",
   "execution_count": 8,
   "metadata": {},
   "outputs": [
    {
     "name": "stdout",
     "output_type": "stream",
     "text": [
      "Pizza is an Italian food that was created in Italy (The Naples area). It is made with different toppings. Some of the most common toppings are cheese, sausages, pepperoni, vegetables, tomatoes, spices and herbs and basil. These toppings are added over a piece of bread covered with sauce. The sauce is most often tomato-based, but butter-based sauces are used, too. The piece of bread is usually called a \"pizza crust\". Almost any kind of topping can be put over a pizza. The toppings used are different in different parts of the world. Pizza comes from Italy from Neapolitan cuisine. However, it has become popular in many parts of the world.\n",
      "\n",
      "History \n",
      "The origin of the word Pizza is uncertain. The food was invented in Naples about 200 years ago. It is the name for a special type of flatbread, made with special dough. The pizza enjoyed a second birth as it was taken to the United States in the late 19th century.\n",
      "\n",
      "Flatbreads, like the focaccia from Liguria, have been known for a very long time. Pizzas need to be baked at temperatures of 200250 °C. Hardly any household oven could reach such temperatures at the time. Because of this, the pizza was made at home, and then given to the town bakery to bake. In June 1889, the Neapolitan chef Raffaele Esposito created the \"Margherita\" in honour of Queen Margherita, and was the first pizza to include cheese. \n",
      "\n",
      "Pizza was brought to the United States with Italian immigrants in the late nineteenth century; and first appeared in areas where Italian immigrants concentrated. The country's first pizzeria (place that focuses in pizza), Lombardi's, opened in 1905.  Veterans returning from World War II's Italian Campaign were a ready market for pizza. Since then, pizza consumption has increased in the U.S. Pizza chains such as Domino's, Pizza Hut, and Papa John's, have outlets all over the nation. Thirteen percent of the U.S. population eats pizza on any given day.\n",
      "\n",
      "Types \n",
      "In the 20th century, pizza has become an international food. The toppings may be quite different depending on the local tastes. These pizzas consist of the same basic design. They also include many types of ingredients such as anchovies, egg, pineapple, banana, coconut, sauerkraut, eggplant, kimchi, lamb, couscous, chicken, fish, and shellfish. Sometimes, meats prepared in styles such as Greek lamb, Gyros or chicken tikka masala, and non-traditional spices such as curry and Thai sweet chili are added too. Pizzas can also be made without meat for vegetarians, and without cheese, for vegans.\n",
      "\n",
      "Styles \n",
      "\n",
      "Neapolitan pizza (pizza Napoletana). Authentic Neapolitan pizzas are made with local ingredients like San Marzano tomatoes, which grow on the volcanic plains to the south of Mount Vesuvius and Mozzarella di Bufala Campana, made with the milk from water buffalo raised in the marshlands of Campania and Lazio in a semi-wild state (this mozzarella is protected by its own European law). \n",
      "\n",
      "The genuine Neapolitan pizza dough consists of Italian flour, natural Neapolitan yeast or brewer's yeast, salt and water.The dough must be kneaded by hand or with a low-speed mixer. After the rising process, the dough must be formed by hand without the help of a rolling pin or other mechanical device, and may be no more than 3 mm (1/8 in) thick. \n",
      "\n",
      "Pizza is cooked in an oven. When cooked, it should be crispy, tender and fragrant. Neapolitan pizza has gained the status of \"guaranteed traditional specialty\" in Italy. This admits only three official variants: Pizza marinara, which is made with tomato, garlic, oregano and extra virgin olive oil (although most Neapolitan pizzerias also add basil to the marinara), Pizza Margherita, made with tomato,mozzarella, basil and extra virgin olive oil, and Pizza Margherita DOC made with tomato, buffalo mozzarella from Campania in fillets, basil and extra virgin olive oil.\n",
      "\n",
      "Lazio style: Pizza in Lazio (Rome), as well as in many other parts of Italy is available in 2 different \"flavors\": 1) In take-away shops so-called \"Pizza Rustica\" or \"Pizza a Taglio\". Pizza is cooked in long, rectangular baking pans and relatively thick (1–2 cm). The crust similar to that of an English muffin and mostly cooked in an electric oven. When purchased, it is usually cut with scissors or knife and priced by weight. 2) In Pizza Restaurants (Pizzerias) it is served in a dish in its traditional round shape.\n",
      "\n",
      "Other types of Lazio-style pizza include:\n",
      "\n",
      " Pizza Romana (in Naples): tomato, mozzarella, anchovies, oregano, oil;\n",
      " Pizza Viennese: tomato, mozzarella, German sausage, oregano, oil;\n",
      " Pizza Capricciosa (\"Capricious Pizza\"): mozzarella, tomato, mushrooms, artichokes, cooked ham, olives, and oil.\n",
      " Pizza Quattro Stagioni (\"Four Seasons Pizza\"): same ingredients for the Capricciosa, but ingredients are not mixed;\n",
      " Pizza Quattro Formaggi (\"Four Cheese Pizza\"): tomatoes, mozzarella, stracchino, fontina, gorgonzola.\n",
      "\n",
      "Sicilian-style pizza has its toppings baked directly into the crust. \n",
      "Pizza Hut's Sicilian Pizza, introduced in 1994, is not an authentic example of the style as only garlic, basil, and oregano are mixed into the crust,it's sold in the restaurant chain Pizza Hut.\n",
      "\n",
      "White pizza (pizza bianca) uses no tomato sauce, often substituting pesto or dairy products such as sour cream. Most commonly, especially on the East Coast of the United States, the toppings consist only of mozzarella and ricotta cheese drizzled with olive oil and basil and garlic. In Rome, the term pizza bianca refers to a type of bread topped only with olive oil. Some white pizzas use Alfredo sauce as the pizza sauce for a better flavor.\n",
      "\n",
      "Pizza al taglio \n",
      "\n",
      "Pizza al taglio or pizza al trancio was invented in Rome. It is usually rectangular, and sold by weight. The name translates to pizza by the slice. Stands selling pizza al taglio are common in Italy. It is also common in other areas of the world where there are many Italian immigrants.\n",
      "\n",
      "Pizzerias \n",
      "Antica Pizzeria Port'Alba, the first pizzeria in Italy, started making pizzas in 1738 and still serves pizza today.\n",
      "\n",
      "Some global pizza franchises are Pizza Hut, Domino's Pizza, Cici's Pizza, Papa John's and Little Caesars.\n",
      "\n",
      "Frozen pizza \n",
      "\n",
      "Frozen pizza is pizza that has been prepared beforehand, and is then deep-frozen, to be distributed in supermarkets. It is among the most successful and popular types of convenience food. It is prepared slightly differently: First the dough with the tomato sauce is pre-cooked, then the toppings are added. The dough of frozen pizza is different. Its dough also contains modified starch and leavening agents. This makes it possible to cook the pizza directly, without first defrosting it. One main frozen pizza brand is Digiorno.\n",
      "\n",
      "References\n"
     ]
    }
   ],
   "source": [
    "res = client.search(index=index_name, body={\n",
    "    \"_source\": {\n",
    "        \"excludes\": [\"title_vector\", \"content_vector\"]\n",
    "    },\n",
    "    \"query\": {\n",
    "        \"match\": {\n",
    "            \"text\": {\n",
    "                \"query\": \"Pizza\"\n",
    "            }\n",
    "        }\n",
    "    }\n",
    "})\n",
    "\n",
    "print(res[\"hits\"][\"hits\"][0][\"_source\"][\"text\"])"
   ]
  },
  {
   "cell_type": "markdown",
   "metadata": {},
   "source": [
    "## Encode questions with OpenAI\n",
    "\n",
    "To perform a semantic search, we need to calculate questions encodings with the same embedding model used to encode the documents at index time. In this example, we need to use the `text-embedding-3-small` model."
   ]
  },
  {
   "cell_type": "code",
   "execution_count": 9,
   "metadata": {},
   "outputs": [],
   "source": [
    "from openai import OpenAI\n",
    "# import os\n",
    "\n",
    "# Define model\n",
    "EMBEDDING_MODEL = \"text-embedding-ada-002\"\n",
    "\n",
    "# Define the Client\n",
    "openaiclient = OpenAI(\n",
    "    # This is the default and can be omitted\n",
    "    api_key=os.getenv(\"OPENAI_API_KEY\"),\n",
    ")\n",
    "# Define question\n",
    "question = 'is Pineapple a good ingredient for Pizza?'\n",
    "\n",
    "# Create embedding\n",
    "question_embedding = openaiclient.embeddings.create(input=question, model=EMBEDDING_MODEL)"
   ]
  },
  {
   "cell_type": "markdown",
   "metadata": {},
   "source": [
    "## Run semantic search queries with OpenSearch\n",
    "\n",
    "With the above embedding calculated, we can now run semantic searches against the OpenSearch index. We're using `knn` as query type and scan the content of the `content_vector` field.\n",
    "\n",
    "After running the block below, we should see content semantically similar to the question. Expect documents based on Pineapples, Pizza, Hawaii, Italy, etc."
   ]
  },
  {
   "cell_type": "code",
   "execution_count": 10,
   "metadata": {},
   "outputs": [
    {
     "name": "stdout",
     "output_type": "stream",
     "text": [
      "Id:66079\n",
      "Score: 0.7135362\n",
      "Title: Pizza Pizza\n",
      "Text: Pizza Pizza Limited (PPL), doing business as Pizza Pizza (), is a franchised Canadian pizza fast foo\n",
      "Id:15719\n",
      "Score: 0.7114062\n",
      "Title: Pineapple\n",
      "Text: The pineapple is a fruit. It is native to South America, Central America and the Caribbean. The word\n",
      "Id:13967\n",
      "Score: 0.7108203\n",
      "Title: Pizza\n",
      "Text: Pizza is an Italian food that was created in Italy (The Naples area). It is made with different topp\n",
      "Id:13968\n",
      "Score: 0.6949483\n",
      "Title: Pepperoni\n",
      "Text: Pepperoni is a meat food that is sometimes sliced thin and put on pizza. It is a kind of salami, whi\n",
      "Id:40989\n",
      "Score: 0.6696381\n",
      "Title: Coprophagia\n",
      "Text: Coprophagia is the eating of faeces. Many animals eat faeces, either their own or that of other anim\n",
      "Id:90918\n",
      "Score: 0.66622764\n",
      "Title: Pizza Hut\n",
      "Text: Pizza Hut is an American pizza restaurant, or pizza parlor. Pizza Hut also serves salads, pastas and\n",
      "Id:433\n",
      "Score: 0.6660739\n",
      "Title: Lanai\n",
      "Text: Lanai (or Lānaʻi) is sixth largest of the Hawaiian Islands, in the United States. It is also known a\n",
      "Id:45877\n",
      "Score: 0.66572094\n",
      "Title: Papaya\n",
      "Text: Papaya is a tall herbaceous plant in the genus Carica; its edible fruit is also called papaya. It is\n",
      "Id:7594\n",
      "Score: 0.6648995\n",
      "Title: Hawaiian Punch\n",
      "Text: Hawaiian Punch is the name of a brand of sweetened fruit punch drinks owned by Dr Pepper/Seven Up, I\n",
      "Id:41467\n",
      "Score: 0.66457766\n",
      "Title: Te Puke\n",
      "Text: Te Puke is a small town in the Bay of Plenty in New Zealand. 6670 people live there. It is famous fo\n",
      "Id:31270\n",
      "Score: 0.65893453\n",
      "Title: Afelia\n",
      "Text: Afelia is a Greek food. It is popular in the island nation of Cyprus. Afelia is made from pork, red \n",
      "Id:23474\n",
      "Score: 0.6580894\n",
      "Title: Olive oil\n",
      "Text: Olive oil is a vegetable oil. It is made by getting the juice of the fruits of the olive tree. These\n",
      "Id:61037\n",
      "Score: 0.65704626\n",
      "Title: Dough\n",
      "Text: Dough is a thick, malleable and sometimes elastic paste made out of flour by mixing it with a small \n",
      "Id:60337\n",
      "Score: 0.6569063\n",
      "Title: Pastry\n",
      "Text: Pastry is the dough from which some baked products are made. Pastry dough is rolled out thinly and u\n",
      "Id:76670\n",
      "Score: 0.6560988\n",
      "Title: Lycopene\n",
      "Text: Lycopene is the pigment of tomato. Its chemical formula is (6E,8E,10E,12E,14E,16E,18E,20E,22E,24E,26\n"
     ]
    }
   ],
   "source": [
    "opensearch_response = client.search(\n",
    "  index = index_name,\n",
    "  body = {\n",
    "      \"size\": 15,\n",
    "      \"query\" : {\n",
    "        \"knn\" : {\n",
    "          \"content_vector\":{\n",
    "          \"vector\":  question_embedding.data[0].embedding,\n",
    "          \"k\": 3\n",
    "        }\n",
    "      }\n",
    "    }\n",
    "  }\n",
    ")\n",
    "\n",
    "for result in opensearch_response[\"hits\"][\"hits\"]:\n",
    "  print(\"Id:\" + str(result['_id']))\n",
    "  print(\"Score: \" + str(result[\"_score\"]))\n",
    "  print(\"Title: \" + str(result[\"_source\"][\"title\"]))\n",
    "  print(\"Text: \" + result[\"_source\"][\"text\"][0:100])\n"
   ]
  },
  {
   "cell_type": "markdown",
   "metadata": {},
   "source": [
    "## Use OpenAI Chat Completions API to generate a reply\n",
    "\n",
    "now let's use OpenAI chat `completions` to generate a reply based on the information retrieved."
   ]
  },
  {
   "cell_type": "code",
   "execution_count": 11,
   "metadata": {},
   "outputs": [
    {
     "name": "stdout",
     "output_type": "stream",
     "text": [
      "Our top hit is \n",
      " Pizza Pizza Limited (PPL), doing business as Pizza Pizza (), is a franchised Canadian pizza fast food restaurant with locations throughout Ontario, Canada. Ingredients include pepperoni, pineapples, mushrooms, and other non-exotic produce. Pizza Pizza has served the area for over 30 years. It has over 500 locations around Ontario and are expanding across the nation. They have recently opened shops in Montreal and British Columbia.\n",
      "\n",
      "Other websites \n",
      "\n",
      " Official website\n",
      "\n",
      "Canadian fast food restaurants\n",
      "Companies listed on the Toronto Stock Exchange\n",
      "------------------------------------------------------------\n",
      "Pineapple is a popular ingredient used in pizzas served at Pizza Pizza Limited (PPL), a Canadian fast food restaurant with over 500 locations in Ontario and expanding across the nation.\n",
      "------------------------------------------------------------\n"
     ]
    }
   ],
   "source": [
    "# Retrieve the text of the first result in the above dataset\n",
    "top_hit_summary = opensearch_response['hits']['hits'][0]['_source']['text']\n",
    "\n",
    "# Craft a reply\n",
    "openai_response = openaiclient.chat.completions.create(\n",
    "    model=\"gpt-3.5-turbo\",\n",
    "    messages=[\n",
    "        {\"role\": \"system\", \"content\": \"You are a helpful assistant.\"},\n",
    "        {\"role\": \"user\", \"content\": \"Answer the following question:\" \n",
    "            + question \n",
    "            + \"by using the following text:\" \n",
    "            + top_hit_summary\n",
    "        }\n",
    "    ]\n",
    ")\n",
    "\n",
    "choices = openai_response.choices\n",
    "print(f\"Our top hit is \\n {top_hit_summary}\")\n",
    "for choice in choices:\n",
    "    print(\"------------------------------------------------------------\")\n",
    "    print(choice.message.content)\n",
    "    print(\"------------------------------------------------------------\")\n"
   ]
  },
  {
   "cell_type": "markdown",
   "metadata": {},
   "source": [
    "## Conclusion\n",
    "\n",
    "OpenSearch is a powerful tool providing both text and vector search capabilities. Used alongside OpenAI APIs allows you to craft personalized AI applications able to augment the context based on semantic search.\n",
    "\n",
    "You can try Aiven for OpenSearch, or any of the other Open Source tools, in the Aiven platform free trial by [signing up](https://go.aiven.io/openai-opensearch-signup)."
   ]
  }
 ],
 "metadata": {
  "kernelspec": {
   "display_name": "Python 3 (ipykernel)",
   "language": "python",
   "name": "python3"
  },
  "language_info": {
   "codemirror_mode": {
    "name": "ipython",
    "version": 3
   },
   "file_extension": ".py",
   "mimetype": "text/x-python",
   "name": "python",
   "nbconvert_exporter": "python",
   "pygments_lexer": "ipython3",
   "version": "3.11.5"
  }
 },
 "nbformat": 4,
 "nbformat_minor": 4
}
